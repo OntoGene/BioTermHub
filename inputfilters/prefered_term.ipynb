{
 "cells": [
  {
   "cell_type": "code",
   "execution_count": 24,
   "metadata": {},
   "outputs": [
    {
     "name": "stdout",
     "output_type": "stream",
     "text": [
      ".beta.-alanine\n"
     ]
    }
   ],
   "source": [
    "def prefered_term(terms):\n",
    "        '''\n",
    "        Given list of term variations, finds what is most likely to be the preferred term\n",
    "        * groups all variations by their lowercased version, then takes the most frequent group\n",
    "        * if there's a match, takes the longest string\n",
    "        '''        \n",
    "        \n",
    "        lower = [ term.lower() for term in terms ]\n",
    "        \n",
    "        # if they're all the same, there's nothing for us to do\n",
    "        if len(set(lower)) == 1:\n",
    "            return lower[0]\n",
    "        \n",
    "        # let's see if one get's the most counts\n",
    "        counts = { term : lower.count(term) for term in set(lower) }\n",
    "        max_count = max(counts.values())\n",
    "        frequentest_terms = [ term for term, count in counts.items() if count == max_count ]\n",
    "        if len(frequentest_terms) == 1:\n",
    "            return frequentest_terms[0]\n",
    "        \n",
    "        # take the longest one from those that have the most counts\n",
    "        lengths = { term : len(term) for term in frequentest_terms }\n",
    "        max_length = max(lengths.values())\n",
    "        longest_terms = [ term for term, length in lengths.items() if length == max_length ]\n",
    "        \n",
    "        # if they have equal length, also, then we just take the first one\n",
    "        return longest_terms[0] \n",
    "        \n",
    "        \n",
    "            \n",
    "print(prefered_term(['beta-Alanine', '.BETA.-ALANINE']))\n",
    "        "
   ]
  },
  {
   "cell_type": "code",
   "execution_count": null,
   "metadata": {},
   "outputs": [],
   "source": []
  }
 ],
 "metadata": {
  "kernelspec": {
   "display_name": "Python 3",
   "language": "python",
   "name": "python3"
  },
  "language_info": {
   "codemirror_mode": {
    "name": "ipython",
    "version": 3
   },
   "file_extension": ".py",
   "mimetype": "text/x-python",
   "name": "python",
   "nbconvert_exporter": "python",
   "pygments_lexer": "ipython3",
   "version": "3.4.3"
  }
 },
 "nbformat": 4,
 "nbformat_minor": 2
}
